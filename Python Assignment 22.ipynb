{
 "cells": [
  {
   "cell_type": "code",
   "execution_count": null,
   "id": "7082b5f5-80c4-4447-89df-6b55bf650beb",
   "metadata": {},
   "outputs": [],
   "source": [
    "#1. What is the result of the code, and explain?\n",
    "\n",
    "#X = 'iNeuron'\n",
    "\n",
    "#def func():\n",
    "\n",
    "#print(X)\n",
    "\n",
    "#func()\n",
    "\n",
    "Ans. The line, func() Call the function we defined which prints the value of X."
   ]
  },
  {
   "cell_type": "code",
   "execution_count": 1,
   "id": "233a9bff-f448-454d-9cb6-d2959d2b0486",
   "metadata": {},
   "outputs": [],
   "source": [
    "X = 'iNeuron'\n",
    "def func():\n",
    "    print (X)"
   ]
  },
  {
   "cell_type": "code",
   "execution_count": 2,
   "id": "01ada32b-61fb-4e0f-924f-06097e75d901",
   "metadata": {},
   "outputs": [
    {
     "name": "stdout",
     "output_type": "stream",
     "text": [
      "iNeuron\n"
     ]
    }
   ],
   "source": [
    "func()\n"
   ]
  },
  {
   "cell_type": "code",
   "execution_count": null,
   "id": "d890b533-5eea-4af3-b44b-1824ee0424a2",
   "metadata": {},
   "outputs": [],
   "source": [
    "#2. What is the result of the code, and explain?\n",
    "\n",
    "#X = 'iNeuron'\n",
    "\n",
    "#def func():\n",
    "\n",
    "#X = 'NI!'\n",
    "\n",
    "#func()\n",
    "\n",
    "#print(X)\n",
    "\n",
    "Ans. The line, func() Call the function we defined, with \"NI\" as the value of X inside the funtion, but doesn't prints it, as there is no print statement inside the function.\n",
    "\n",
    "The line, print(X), prints the value of X, which is \"iNeuron\", which is outside func()."
   ]
  },
  {
   "cell_type": "code",
   "execution_count": null,
   "id": "5f3c0b43-feb6-41ab-a544-d2f7e455e32f",
   "metadata": {},
   "outputs": [],
   "source": [
    "X = 'iNeuron'\n",
    "def func():\n",
    "    X = 'NI!'\n",
    "func()"
   ]
  },
  {
   "cell_type": "code",
   "execution_count": 3,
   "id": "112cc39b-dfd1-4606-bfae-94399989b993",
   "metadata": {},
   "outputs": [
    {
     "name": "stdout",
     "output_type": "stream",
     "text": [
      "iNeuron\n"
     ]
    }
   ],
   "source": [
    "print(X)\n"
   ]
  },
  {
   "cell_type": "code",
   "execution_count": null,
   "id": "61e6f2af-2d89-46bb-98a3-a7e2b662ae75",
   "metadata": {},
   "outputs": [],
   "source": [
    "#3. What does this code print, and why?\n",
    "\n",
    "#X = 'iNeuron'\n",
    "\n",
    "#def func():\n",
    "\n",
    "#X = 'NI'\n",
    "\n",
    "#print(X)\n",
    "\n",
    "#func()\n",
    "\n",
    "#print(X)\n",
    "\n",
    "Ans.The line, func() Call the function we defined which prints the value of X, which is \"NI\" inside the funtion.\n",
    "\n",
    "The line, print(X), prints the value of X, which is \"iNeuron\", which is outside func()."
   ]
  },
  {
   "cell_type": "code",
   "execution_count": null,
   "id": "f5682f79-101b-4730-9899-868dfc6c796d",
   "metadata": {},
   "outputs": [],
   "source": [
    "X = 'iNeuron'\n",
    "def func():\n",
    "    X = 'NI!'\n",
    "    print (X)\n",
    "func()"
   ]
  },
  {
   "cell_type": "code",
   "execution_count": 4,
   "id": "204c3cdf-8f4f-4717-b7da-05401f108809",
   "metadata": {},
   "outputs": [
    {
     "name": "stdout",
     "output_type": "stream",
     "text": [
      "iNeuron\n"
     ]
    }
   ],
   "source": [
    "print(X)\n"
   ]
  },
  {
   "cell_type": "code",
   "execution_count": null,
   "id": "4e105a13-b27b-423c-bfbb-db9bbdfdbfa5",
   "metadata": {},
   "outputs": [],
   "source": [
    "#4. What output does this code produce? Why?\n",
    "\n",
    "#X = 'iNeuron'\n",
    "\n",
    "#def func():\n",
    "\n",
    "#global X\n",
    "\n",
    "#X = 'NI'\n",
    "\n",
    "#func()\n",
    "\n",
    "#print(X)\n",
    "\n",
    "Ans. The line, func() Call the function we defined, with \"NI\" as the value of X inside the funtion, but doesn't prints it, as there is no print statement inside the function, and we have used global keyword, which means, global keyword allows us to modify the variable, that is \"X\", outside of the current function.\n",
    "\n",
    "The line, print(X), prints the value of X, which is now \"NI\", as we used global keyword inside the function."
   ]
  },
  {
   "cell_type": "code",
   "execution_count": 8,
   "id": "d3da43d6-f972-41bf-98ff-3150a0e8e34e",
   "metadata": {},
   "outputs": [],
   "source": [
    "X = 'iNeuron'\n",
    "def func():\n",
    "    global X\n",
    "    X = \"NI\"\n",
    "func()"
   ]
  },
  {
   "cell_type": "code",
   "execution_count": 9,
   "id": "f95592aa-2129-44d0-8bca-230089d4c67c",
   "metadata": {},
   "outputs": [
    {
     "name": "stdout",
     "output_type": "stream",
     "text": [
      "NI\n"
     ]
    }
   ],
   "source": [
    "print(X)\n"
   ]
  },
  {
   "cell_type": "code",
   "execution_count": null,
   "id": "2846ce41-b9d7-4b43-96dd-06964b97d61a",
   "metadata": {},
   "outputs": [],
   "source": [
    "#5. X = 'iNeuron'\n",
    "\n",
    "#def func():\n",
    "\n",
    "#X = 'NI'\n",
    "\n",
    "#def nested():\n",
    "\n",
    "#print(X)\n",
    "\n",
    "#nested()\n",
    "\n",
    "#func()\n",
    "\n",
    "#X"
   ]
  },
  {
   "cell_type": "code",
   "execution_count": 10,
   "id": "74ee18c6-5d5e-407d-97c1-9e9dc6ff9f6b",
   "metadata": {},
   "outputs": [
    {
     "name": "stdout",
     "output_type": "stream",
     "text": [
      "iNeuron\n"
     ]
    }
   ],
   "source": [
    "X = 'iNeuron'\n",
    "def func():\n",
    "    X = \"NI\"\n",
    "def nested():\n",
    "    print(X)\n",
    "nested()"
   ]
  },
  {
   "cell_type": "code",
   "execution_count": 11,
   "id": "59d005ef-7532-4d23-96a6-88c42a5e7ebd",
   "metadata": {},
   "outputs": [],
   "source": [
    "func()\n"
   ]
  },
  {
   "cell_type": "code",
   "execution_count": 12,
   "id": "fa7384bf-dfed-4526-b0b2-2efbaa6d8e97",
   "metadata": {},
   "outputs": [
    {
     "data": {
      "text/plain": [
       "'iNeuron'"
      ]
     },
     "execution_count": 12,
     "metadata": {},
     "output_type": "execute_result"
    }
   ],
   "source": [
    "X\n"
   ]
  },
  {
   "cell_type": "code",
   "execution_count": null,
   "id": "5e5581fa-e7f5-4573-b2f6-3cb50b370724",
   "metadata": {},
   "outputs": [],
   "source": [
    "#6. def func():\n",
    "\n",
    "#X = 'NI'\n",
    "\n",
    "#def nested():\n",
    "\n",
    "#nonlocal X\n",
    "\n",
    "#X = 'Spam'\n",
    "\n",
    "#nested()\n",
    "\n",
    "#print(X)\n",
    "\n",
    "#func()\n",
    "\n",
    "Ans. The nonlocal keyword is used to work with variables inside nested functions, where the variable should not belong to the inner function.Use the keyword nonlocal to declare that the variable is not local.\n",
    "\n"
   ]
  },
  {
   "cell_type": "code",
   "execution_count": 13,
   "id": "0ab07a48-0a53-4b98-85c4-60d65a28f4ee",
   "metadata": {},
   "outputs": [],
   "source": [
    "def func():\n",
    "    X = 'NI'\n",
    "    def nested():\n",
    "        nonlocal X\n",
    "        X = 'Spam'\n",
    "    nested()"
   ]
  },
  {
   "cell_type": "code",
   "execution_count": 14,
   "id": "8096231e-b2c3-447f-97a2-0132fe9c72b5",
   "metadata": {},
   "outputs": [
    {
     "name": "stdout",
     "output_type": "stream",
     "text": [
      "iNeuron\n"
     ]
    }
   ],
   "source": [
    "print(X)\n"
   ]
  },
  {
   "cell_type": "code",
   "execution_count": 15,
   "id": "04512b22-848b-46e5-952e-9189372270de",
   "metadata": {},
   "outputs": [
    {
     "ename": "NameError",
     "evalue": "name 'myfunc1' is not defined",
     "output_type": "error",
     "traceback": [
      "\u001b[0;31m---------------------------------------------------------------------------\u001b[0m",
      "\u001b[0;31mNameError\u001b[0m                                 Traceback (most recent call last)",
      "Cell \u001b[0;32mIn [15], line 1\u001b[0m\n\u001b[0;32m----> 1\u001b[0m \u001b[38;5;28mprint\u001b[39m(\u001b[43mmyfunc1\u001b[49m())\n",
      "\u001b[0;31mNameError\u001b[0m: name 'myfunc1' is not defined"
     ]
    }
   ],
   "source": [
    "print(myfunc1())\n"
   ]
  },
  {
   "cell_type": "code",
   "execution_count": null,
   "id": "f5a9df4d-cc7a-4ff2-b850-e7d0739e4062",
   "metadata": {},
   "outputs": [],
   "source": []
  }
 ],
 "metadata": {
  "kernelspec": {
   "display_name": "Python 3 (ipykernel)",
   "language": "python",
   "name": "python3"
  },
  "language_info": {
   "codemirror_mode": {
    "name": "ipython",
    "version": 3
   },
   "file_extension": ".py",
   "mimetype": "text/x-python",
   "name": "python",
   "nbconvert_exporter": "python",
   "pygments_lexer": "ipython3",
   "version": "3.10.6"
  }
 },
 "nbformat": 4,
 "nbformat_minor": 5
}
